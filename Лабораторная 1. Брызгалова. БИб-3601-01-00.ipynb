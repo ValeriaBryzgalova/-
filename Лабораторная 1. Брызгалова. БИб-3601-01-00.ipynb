{
  "cells": [
    {
      "cell_type": "markdown",
      "metadata": {
        "id": "234VI9vMzAAf"
      },
      "source": [
        "### Задание 0 (вычислительное)\n",
        "\n",
        "Посчитайте:\n",
        "\n",
        "* $log(25)$, $log(exp(3))$, $log_{10}1000$\n",
        "* $\\pi^3$, $123^4$ \n",
        "* $\\sqrt{459}$"
      ]
    },
    {
      "cell_type": "code",
      "source": [
        "import math\n",
        "x = math.log(25)\n",
        "print (\"log(25)=\",x)\n",
        "y = math.exp(3)\n",
        "y = math.log(y)\n",
        "print (\"log(exp(3))=\",y)\n",
        "z = math.log10(1000)\n",
        "print (\"log10(1000)=\",z)\n",
        "p = math.pi\n",
        "p = math.pow(p, 3)\n",
        "print (\"π^3 =\",p)\n",
        "a = math.pow(123, 4)\n",
        "print (\"123^4 =\",a)\n",
        "b = math.sqrt(459)\n",
        "print (\"v459 =\",b)"
      ],
      "metadata": {
        "colab": {
          "base_uri": "https://localhost:8080/"
        },
        "id": "NMIDKQOk47i_",
        "outputId": "2bf8c751-5b5f-4f60-81b7-74214dac0f64"
      },
      "execution_count": 12,
      "outputs": [
        {
          "output_type": "stream",
          "name": "stdout",
          "text": [
            "log(25)= 3.2188758248682006\n",
            "log(exp(3))= 3.0\n",
            "log10(1000)= 3.0\n",
            "π^3 = 31.006276680299816\n",
            "123^4 = 228886641.0\n",
            "v459 = 21.42428528562855\n"
          ]
        }
      ]
    },
    {
      "cell_type": "markdown",
      "metadata": {
        "id": "vjVSZxHGzAAm"
      },
      "source": [
        "### Задание 1 (стартовое)\n",
        "\n",
        "В переменных `a` и `b` хранятся некоторые числа. Напишите код, который бы менял значения переменных местами. Создавать новые переменные можно. \n",
        "\n",
        "**Пример:**"
      ]
    },
    {
      "cell_type": "code",
      "execution_count": null,
      "metadata": {
        "id": "Su6oS44zzAAo"
      },
      "outputs": [],
      "source": [
        "# до\n",
        "a = 2\n",
        "b = 5"
      ]
    },
    {
      "cell_type": "code",
      "execution_count": 18,
      "metadata": {
        "id": "y7vpRfN8zAAq",
        "colab": {
          "base_uri": "https://localhost:8080/"
        },
        "outputId": "3c920fb0-6584-414f-978b-7cf39a0a4c97"
      },
      "outputs": [
        {
          "output_type": "stream",
          "name": "stdout",
          "text": [
            "a = 5 b = 2\n"
          ]
        }
      ],
      "source": [
        "a = 2\n",
        "b = 5\n",
        "temp = a\n",
        "a = b\n",
        "b = temp\n",
        "print(\"a =\",a,\"b =\",b)\n"
      ]
    },
    {
      "cell_type": "code",
      "execution_count": 19,
      "metadata": {
        "id": "-pG4pkpszAAr",
        "outputId": "3aa6a970-c814-49f8-b9e9-a772fca81798",
        "colab": {
          "base_uri": "https://localhost:8080/"
        }
      },
      "outputs": [
        {
          "output_type": "stream",
          "name": "stdout",
          "text": [
            "5\n",
            "2\n"
          ]
        }
      ],
      "source": [
        "# после\n",
        "print(a)\n",
        "print(b)"
      ]
    },
    {
      "cell_type": "markdown",
      "metadata": {
        "id": "IzFAFfcezAAs"
      },
      "source": [
        "### Задание 2 (арифметическое)\n",
        "\n",
        "В переменных `a`, `b`, `c` хранятся какие-то числа. Напишите программу, которая считает их среднее арифметическое."
      ]
    },
    {
      "cell_type": "code",
      "execution_count": null,
      "metadata": {
        "id": "SUqEpKZmzAAt"
      },
      "outputs": [],
      "source": [
        "a = 1\n",
        "b = 2\n",
        "c = 3"
      ]
    },
    {
      "cell_type": "code",
      "execution_count": 20,
      "metadata": {
        "id": "R5FNxB1GzAAv",
        "colab": {
          "base_uri": "https://localhost:8080/"
        },
        "outputId": "7a7f6a07-fa0d-4835-fdab-1496fe329e49"
      },
      "outputs": [
        {
          "output_type": "stream",
          "name": "stdout",
          "text": [
            "Среднее арифметическое = 2.0\n"
          ]
        }
      ],
      "source": [
        "a = 1\n",
        "b = 2\n",
        "c = 3\n",
        "d = (a+b+c)/3\n",
        "print(\"Среднее арифметическое =\",d)"
      ]
    },
    {
      "cell_type": "markdown",
      "metadata": {
        "id": "sHnvDHyJzAAw"
      },
      "source": [
        "### Задание 3 (экономическое)\n",
        "\n",
        "Напишите программу, которая логарифмирует значение ВВП, которое хранится в переменной `gdp` и округляет результат до второго знака после запятой."
      ]
    },
    {
      "cell_type": "code",
      "source": [
        "import math\n",
        "gdp = 1483000000000\n",
        "x = math.log(gdp)\n",
        "x = round(x, 2)\n",
        "print (\"log(ВВП)=\", x)"
      ],
      "metadata": {
        "colab": {
          "base_uri": "https://localhost:8080/"
        },
        "id": "_Wq4LUKIAxSM",
        "outputId": "456baa2e-da01-41ae-9cdc-ece4b2ce5002"
      },
      "execution_count": 22,
      "outputs": [
        {
          "output_type": "stream",
          "name": "stdout",
          "text": [
            "log(ВВП)= 28.03\n"
          ]
        }
      ]
    },
    {
      "cell_type": "markdown",
      "metadata": {
        "id": "oDFDxX43zAAx"
      },
      "source": [
        "###  Задание 3 (финансовое)\n",
        "\n",
        "В переменной `salary` хранится значение заработной платы респондента в рублях (можете сами присвоить `salary` какое-нибудь значение).\n",
        "\n",
        "Напишите программу, которая выражает заработную плату респондента в тысячах рублей и\n",
        "\n",
        "a) просто выводит результат перевода в тысячи на экран;\n",
        "\n",
        "б) просто сохраняет результат в переменную `salary_th`;\n",
        "\n",
        "в) сохраняет результат в переменную `salary_th` и выводит результат на экран."
      ]
    },
    {
      "cell_type": "code",
      "source": [
        "salary = 80000\n",
        "#a\n",
        "print(salary/1000)\n",
        "#б\n",
        "salary_th = salary/1000\n",
        "#в\n",
        "salary_th = salary/1000\n",
        "print(\"зп в тыс. руб.\",salary_th)"
      ],
      "metadata": {
        "colab": {
          "base_uri": "https://localhost:8080/"
        },
        "id": "b2yswJRCEDtk",
        "outputId": "d470d901-e66b-4fc6-dd7b-10ed398945fa"
      },
      "execution_count": 42,
      "outputs": [
        {
          "output_type": "stream",
          "name": "stdout",
          "text": [
            "80.0\n",
            "зп в тыс. руб. 80.0\n"
          ]
        }
      ]
    },
    {
      "cell_type": "markdown",
      "metadata": {
        "id": "klAV_iIazAAy"
      },
      "source": [
        "### Задание 4 (политологическое)\n",
        "\n",
        "В переменной `fh` хранится значение индекса политической свободы Freedom House, а в переменной `p`\n",
        "значение индекса Polity IV. Напишите программу, которая будет считать индекс Freedom:\n",
        "\n",
        "$Freedom = 0.4 \\cdot Freedom House + 0.6 \\cdot Polity IV$."
      ]
    },
    {
      "cell_type": "code",
      "source": [
        "fh = 20\n",
        "p = 4\n",
        "f = 0.4*fh+0.6*p\n",
        "print(\"Freedom =\",f)"
      ],
      "metadata": {
        "colab": {
          "base_uri": "https://localhost:8080/"
        },
        "id": "b0GU4k41FhR6",
        "outputId": "dd8c67f3-5473-4907-816a-3341ad1287fa"
      },
      "execution_count": 26,
      "outputs": [
        {
          "output_type": "stream",
          "name": "stdout",
          "text": [
            "Freedom = 10.4\n"
          ]
        }
      ]
    },
    {
      "cell_type": "markdown",
      "metadata": {
        "id": "QgHY4EW4zAAz"
      },
      "source": [
        "### Задание 5 (налоговое)\n",
        "\n",
        "Напишите программу, которая запрашивает у пользователя с клавиатуры\n",
        "изначальное значение заработной платы в рублях и выводит на экран сообщение: \n",
        "\n",
        "    Ваша заработная плата с учетом подоходного налога: n рублей.\n",
        "\n",
        "где `n` ‒ значение заработной платы с учетом подоходного налога (налоговая ставка 13%).\n",
        "\n",
        "Подсказка: для ввода информации с клавиатуры используйте функцию `input()`. Не забудьте учесть, что результат, который вводится через `input()` является строкой, а не числом. Примеры использования `input()` и более подробное знакомство с вводом-выводом в Python – см. [здесь](https://nbviewer.jupyter.org/github/allatambov/Py-programming-3/blob/master/06-04/lecture-input-output.ipynb)."
      ]
    },
    {
      "cell_type": "code",
      "source": [
        "z = int(input(\"Укажите значение вашей зп в рублях \"))\n",
        "z= z-(z*0.13)\n",
        "print(\"Ваша зп с учетом подоходного налога:\",z,\"рублей\")"
      ],
      "metadata": {
        "colab": {
          "base_uri": "https://localhost:8080/"
        },
        "id": "STDqwZnWGQbm",
        "outputId": "88024eb5-79d9-41d8-b99f-9ef02571bff8"
      },
      "execution_count": 28,
      "outputs": [
        {
          "output_type": "stream",
          "name": "stdout",
          "text": [
            "Укажите значение вашей зп в рублях 30000\n",
            "Ваша зп с учетом подоходного налога: 26100.0 рублей\n"
          ]
        }
      ]
    },
    {
      "cell_type": "markdown",
      "metadata": {
        "id": "spwXHerVzAA0"
      },
      "source": [
        "### Задание 6 (весеннее)\n",
        "\n",
        "С приходом весны питон решил каждый день выползать погреться на солнышко. Однако он знал, что солнце весной довольно активное, и поэтому разработал такую схему: в первый день он греется одну минуту, а в каждый последующий день увеличивает время пребывания на солнце на 3 минуты. Напишите код, который позволит вычислять, сколько минут питон будет тратить на солнечные ванны в некоторый выбранный день.\n",
        "\n",
        "*Внимание:* ваш код должен выводить номер дня и число минут. Использовать циклы нельзя, в задании предполагается многократный запуск ячеек с кодом."
      ]
    },
    {
      "cell_type": "code",
      "source": [
        "a = int(input(\"Введите день\"))\n",
        "b = 3\n",
        "c = 1\n",
        "print(\"День:\",a,\"Минуты:\", c+b*(a-1))"
      ],
      "metadata": {
        "colab": {
          "base_uri": "https://localhost:8080/"
        },
        "id": "5LU2zIuAHx03",
        "outputId": "fd5031aa-2dbd-43b8-c319-9e3ad0299309"
      },
      "execution_count": 37,
      "outputs": [
        {
          "output_type": "stream",
          "name": "stdout",
          "text": [
            "Введите день2\n",
            "День: 2 Минуты: 4\n"
          ]
        }
      ]
    },
    {
      "cell_type": "markdown",
      "metadata": {
        "id": "jBxWMLZVzAA2"
      },
      "source": [
        "### Задание 7 (цифровое)\n",
        "\n",
        "Питон выполз на улицу погулять и решил поиграть: просил прохожих назвать какую-нибудь цифру (т.е. ввести ее с клавиатуры) и приписывал эту цифру к цифре, которую назвал предыдущий прохожий. Напишите код, который позволит определить, какое число получится после опроса 4 прохожих, если известно, что первый прохожий назвал цифру 5. \n",
        "Задача не подразумевает использование циклов; запускать код несколько раз / копировать ячейки можно.\n",
        "\n",
        "*Пример-пояснение:* первый назвал цифру 5, второй ‒ цифру 6, третий ‒ 3. Получили число 563.\n",
        "\n",
        "*Подсказка:* для склеивания строк (такая операция называется конкатенацией) в Python используется `+`:"
      ]
    },
    {
      "cell_type": "code",
      "execution_count": null,
      "metadata": {
        "id": "xsQ0NfcGzAA3"
      },
      "outputs": [],
      "source": [
        "a = \"pass\"\n",
        "b = \"word\"\n",
        "\n",
        "print(a + b)"
      ]
    },
    {
      "cell_type": "code",
      "source": [
        "a1 = '5'\n",
        "a2 = input(\"Назови число \")\n",
        "a3 = input(\"Назови число \")\n",
        "a4 = input(\"Назови число \")\n",
        "print(\"Получаем:\",a1+a2+a3+a4)"
      ],
      "metadata": {
        "colab": {
          "base_uri": "https://localhost:8080/"
        },
        "id": "f1mqGoPkMZG1",
        "outputId": "9afc49e7-6d80-4a26-e7df-d3cc3e0a70e4"
      },
      "execution_count": 41,
      "outputs": [
        {
          "output_type": "stream",
          "name": "stdout",
          "text": [
            "Назови число 1\n",
            "Назови число 2\n",
            "Назови число 3\n",
            "Получаем: 5123\n"
          ]
        }
      ]
    }
  ],
  "metadata": {
    "kernelspec": {
      "display_name": "Python 3",
      "language": "python",
      "name": "python3"
    },
    "language_info": {
      "codemirror_mode": {
        "name": "ipython",
        "version": 3
      },
      "file_extension": ".py",
      "mimetype": "text/x-python",
      "name": "python",
      "nbconvert_exporter": "python",
      "pygments_lexer": "ipython3",
      "version": "3.6.5"
    },
    "colab": {
      "name": "1 - seminar1.ipynb",
      "provenance": []
    }
  },
  "nbformat": 4,
  "nbformat_minor": 0
}