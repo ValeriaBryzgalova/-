{
  "cells": [
    {
      "cell_type": "markdown",
      "metadata": {
        "id": "d7rv4HXKzgZp"
      },
      "source": [
        "## Основы программирования в Python\n",
        "\n",
        "*Алла Тамбовцева, НИУ ВШЭ*\n",
        "\n",
        "## Семинар 4"
      ]
    },
    {
      "cell_type": "markdown",
      "metadata": {
        "id": "rVT_EqF5zgZx"
      },
      "source": [
        "### Задача 1\n",
        "\n",
        "Напишите программу, которая просит пользователя ввести положительное число, и если пользователь вводит положительное число, выводит на экран сообщение \"Молодец!\", если нет ‒ \"Это не положительное число.\".\n",
        "\n",
        "Считайте, что пользователь в любом случае вводит числа, а не какой-то текст."
      ]
    },
    {
      "cell_type": "code",
      "source": [
        "N = float(input(\"Введите положительное число: \"))\n",
        "if N > 0:\n",
        "    print(\"Молодец!\")\n",
        "else:\n",
        "    print(\"Это не положительное число.\")"
      ],
      "metadata": {
        "colab": {
          "base_uri": "https://localhost:8080/"
        },
        "id": "uiYDqEN41SeZ",
        "outputId": "75c3645b-e7ef-465d-93f7-460b0c9b0460"
      },
      "execution_count": 40,
      "outputs": [
        {
          "output_type": "stream",
          "name": "stdout",
          "text": [
            "Введите положительное число: -0.14\n",
            "Это не положительное число.\n"
          ]
        }
      ]
    },
    {
      "cell_type": "markdown",
      "metadata": {
        "id": "wH3CsBsgzgZz"
      },
      "source": [
        "### Задача 2\n",
        "\n",
        "Напишите программу, которая принимает на вход список оценок студентов от 1 до 10, выводит на экран оценку, а после нее, с новой строки, комментарий \"Плохо\", \"Удовлетворительно\", \"Хорошо\", \"Отлично\" в зависимости от оценки."
      ]
    },
    {
      "cell_type": "code",
      "source": [
        "x = input('Введите Ваши оценки через пробел (пример: 1 5 7): ').split()\n",
        "x1 = []\n",
        "j=0\n",
        "for i in x:\n",
        "  x1.append(int(i))\n",
        "  print(x1[j])\n",
        "  if x1[j] < 5:\n",
        "    print('Плохо')\n",
        "  elif x1[j] < 7:\n",
        "    print('Удовлетворительно')\n",
        "  elif x1[j] < 9:\n",
        "    print('Хорошо')\n",
        "  else:\n",
        "    print('Отлично')\n",
        "  j=j+1\n"
      ],
      "metadata": {
        "colab": {
          "base_uri": "https://localhost:8080/"
        },
        "id": "yeZnk4Kl4JrV",
        "outputId": "2dbef920-2991-4af3-b055-97b6d5cf5815"
      },
      "execution_count": 38,
      "outputs": [
        {
          "output_type": "stream",
          "name": "stdout",
          "text": [
            "Введите Ваши оценки через пробел (пример: 1 5 7): 7 6 5 1 4 3 2 10 8 9\n",
            "7\n",
            "Хорошо\n",
            "6\n",
            "Удовлетворительно\n",
            "5\n",
            "Удовлетворительно\n",
            "1\n",
            "Плохо\n",
            "4\n",
            "Плохо\n",
            "3\n",
            "Плохо\n",
            "2\n",
            "Плохо\n",
            "10\n",
            "Отлично\n",
            "8\n",
            "Хорошо\n",
            "9\n",
            "Отлично\n"
          ]
        }
      ]
    },
    {
      "cell_type": "markdown",
      "metadata": {
        "id": "vjkTxMHOzgZ1"
      },
      "source": [
        "### Задача 3\n",
        "\n",
        "Напишите программу, которая запрашивает у пользователя пароль, и далее:\n",
        "\n",
        "- если пароль верный, выводит на экран сообщение \"Login success\".\n",
        "- если пароль неверный, выводит на экран сообщение \"Incorrect password, try again!\" до тех пор, пока пользователь не введет верный пароль."
      ]
    },
    {
      "cell_type": "code",
      "source": [
        "password = 'Кексик'\n",
        "a = input()\n",
        "while a != password:\n",
        "  print(\"Incorrect password, try again!\")\n",
        "  a = input()\n",
        "if a == password:\n",
        "    print(\"Login success\")"
      ],
      "metadata": {
        "colab": {
          "base_uri": "https://localhost:8080/"
        },
        "id": "AjTmzPK60BNZ",
        "outputId": "be172314-aefd-4cee-cd67-709ad3bc214b"
      },
      "execution_count": 43,
      "outputs": [
        {
          "output_type": "stream",
          "name": "stdout",
          "text": [
            "256216\n",
            "Incorrect password, try again!\n",
            "арвиыа45\n",
            "Incorrect password, try again!\n",
            "Кексик\n",
            "Login success\n"
          ]
        }
      ]
    },
    {
      "cell_type": "markdown",
      "metadata": {
        "id": "R8eWNbWRzgZ2"
      },
      "source": [
        "### Задача 4\n",
        "\n",
        "У питона есть набор любимых чисел.\n",
        "\n",
        "    favorites = [3, 7, 11, 23, 18, 48, 81]\n",
        "\n",
        "Напишите программу, которая просит пользователя ввести целое число, и если оно нравится питону, на экран будет выводиться сообщение: \"Мое любимое число!\", если нет ‒ \"Эх, ну почему?\"."
      ]
    },
    {
      "cell_type": "code",
      "source": [
        "favorites = [3, 7, 11, 23, 18, 48, 81]\n",
        "Num = int(input(\"Введите целое число: \"))\n",
        "if Num in favorites:\n",
        "    print(\"Моё любимое число!\")\n",
        "else:\n",
        "    print(\"Эх, ну почему?\")"
      ],
      "metadata": {
        "colab": {
          "base_uri": "https://localhost:8080/"
        },
        "id": "x_UHqgJg0MZQ",
        "outputId": "39f313aa-0a0a-4aa2-a3d7-ac7038dcb3a6"
      },
      "execution_count": 44,
      "outputs": [
        {
          "output_type": "stream",
          "name": "stdout",
          "text": [
            "Введите целое число: 3\n",
            "Моё любимое число!\n"
          ]
        }
      ]
    },
    {
      "cell_type": "markdown",
      "metadata": {
        "id": "AaUzEfGtzgZ3"
      },
      "source": [
        "### Задача 5\n",
        "\n",
        "Напишите программу, которая просит пользователя ввести число и, если оно чётное, выводит на экран сообщение: \"Это число чётное\", если нечётное ‒ \"Это число нечётное\"."
      ]
    },
    {
      "cell_type": "code",
      "source": [
        "a = int(input(\"Введите целое число: \"))\n",
        "if a % 2 == 1:\n",
        "    print(\"Это число нечётное\")\n",
        "else:\n",
        "    print(\"Это число чётное\")"
      ],
      "metadata": {
        "colab": {
          "base_uri": "https://localhost:8080/"
        },
        "id": "r6eXpgKM0_t1",
        "outputId": "5c9a352c-2ee7-4c57-e93c-ac83dab90e55"
      },
      "execution_count": 45,
      "outputs": [
        {
          "output_type": "stream",
          "name": "stdout",
          "text": [
            "Введите целое число: 11\n",
            "Это число нечётное\n"
          ]
        }
      ]
    },
    {
      "cell_type": "markdown",
      "metadata": {
        "id": "krQOFymLzgZ4"
      },
      "source": [
        "### Задача 6\n",
        "\n",
        "Напишите программу, которая просит пользователя ввести существительное, и если слово введено с большой буквы, то на экран выводится сообщение \"Это имя собственное.\", если с маленькой ‒ сообщение \"Это имя нарицательное\"."
      ]
    },
    {
      "cell_type": "code",
      "source": [
        "s = input(\"Введите существительное: \")\n",
        "if s.islower() == False:\n",
        "  print(\"Это имя собственное.\")\n",
        "else:\n",
        "  print(\"Это имя нарицательное.\")"
      ],
      "metadata": {
        "colab": {
          "base_uri": "https://localhost:8080/"
        },
        "id": "QvnqlAAUFQeI",
        "outputId": "c7c790c4-b889-4b4f-c9be-ccbe5684b412"
      },
      "execution_count": 46,
      "outputs": [
        {
          "output_type": "stream",
          "name": "stdout",
          "text": [
            "Введите существительное: ёлка\n",
            "Это имя нарицательное.\n"
          ]
        }
      ]
    }
  ],
  "metadata": {
    "kernelspec": {
      "display_name": "Python 3",
      "language": "python",
      "name": "python3"
    },
    "language_info": {
      "codemirror_mode": {
        "name": "ipython",
        "version": 3
      },
      "file_extension": ".py",
      "mimetype": "text/x-python",
      "name": "python",
      "nbconvert_exporter": "python",
      "pygments_lexer": "ipython3",
      "version": "3.6.5"
    },
    "colab": {
      "name": "4-sem-23-04.ipynb",
      "provenance": []
    }
  },
  "nbformat": 4,
  "nbformat_minor": 0
}